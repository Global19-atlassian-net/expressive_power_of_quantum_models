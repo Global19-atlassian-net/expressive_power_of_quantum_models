{
 "cells": [
  {
   "cell_type": "code",
   "execution_count": 1,
   "metadata": {},
   "outputs": [],
   "source": [
    "# This cell is added by sphinx-gallery\n",
    "# It can be customized to whatever you like\n",
    "%matplotlib inline"
   ]
  },
  {
   "cell_type": "markdown",
   "metadata": {},
   "source": [
    "\n",
    "Quantum models as Fourier series\n",
    "============================\n",
    "\n",
    "\n"
   ]
  },
  {
   "cell_type": "markdown",
   "metadata": {},
   "source": [
    "This demonstration is based on the paper *The effect of data encoding on\n",
    "the expressive power of variational quantum machine learning models* by\n",
    "[Schuld, Sweke and Meyer\n",
    "(2020)](https://arxiv.org/pdf/XXX.XXXXX.pdf) [1].\n",
    "\n",
    "<img src=\"figures/scheme_thumb.png\" alt=\"scheme\" style=\"width: 500px;\">"
   ]
  },
  {
   "cell_type": "markdown",
   "metadata": {},
   "source": [
    "The paper links common quantum machine learning models designed for\n",
    "near-term quantum computers to Fourier series (and, in more general, to\n",
    "Fourier-type sums). With this link, the class of functions a quantum\n",
    "model can learn (i.e., its \"expressivity\") can be characterised by the\n",
    "model's control of the Fourier series' frequencies and coefficients.\n",
    "\n",
    "\n"
   ]
  },
  {
   "cell_type": "markdown",
   "metadata": {},
   "source": [
    "## Background\n"
   ]
  },
  {
   "cell_type": "markdown",
   "metadata": {},
   "source": [
    "Ref. [1] considers quantum machine\n",
    "learning models of the form\n",
    "\n",
    "\\begin{align}f_{\\boldsymbol \\theta}(x) = \\langle 0| U^{\\dagger}(x,\\boldsymbol \\theta) M U(x, \\boldsymbol \\theta) | 0 \\rangle\\end{align}\n",
    "\n",
    "where $M$ is a measurement observable and\n",
    "$U(x, \\boldsymbol \\theta)$ is a variational quantum circuit that\n",
    "encodes a (here one-dimensional) data input $x$ and depends on a\n",
    "set of parameters $\\boldsymbol \\theta$.\n",
    "\n",
    "The circuit itself repeats $L$ layers, each consisting of a data encoding circuit\n",
    "block $S(x)$ and a trainable circuit block\n",
    "$W(\\boldsymbol \\theta)$ that is controlled by the parameters\n",
    "$\\boldsymbol \\theta$. The data encoding block consists of gates of\n",
    "the form $\\mathcal{G}(x) = e^{-ix H}$, where $H$ is a\n",
    "Hamiltonian. A prominent example of such gates are Pauli rotations.\n",
    "\n",
    "\n"
   ]
  },
  {
   "cell_type": "markdown",
   "metadata": {},
   "source": [
    "The paper shows how such a quantum model can be written as a\n",
    "Fourier-type sum of the form\n",
    "\n",
    "\\begin{align}f_{ \\boldsymbol \\theta}(x) = \\sum_{\\omega \\in \\Omega} c_{\\omega}( \\boldsymbol \\theta) \\; e^{i  \\omega x}.\\end{align}\n",
    "\n",
    "As illustrated in the picture below (which is Figure 1 from the paper),\n",
    "the \"encoding Hamiltonians\" in $S(x)$ determine the set\n",
    "$\\Omega$ of available \"frequencies\", and the remainder of the\n",
    "circuit, including the trainable parameters, determine the coefficients\n",
    "$c_{\\omega}$.\n",
    "\n",
    "\n"
   ]
  },
  {
   "cell_type": "markdown",
   "metadata": {},
   "source": [
    "<img src=\"figures/scheme.png\" alt=\"scheme\" style=\"width: 500px;\">\n",
    "\n",
    "\n"
   ]
  },
  {
   "cell_type": "markdown",
   "metadata": {},
   "source": [
    "The paper demonstrates many of its findings for circuits in which\n",
    "$\\mathcal{G}(x)$ is a single-qubit Pauli rotation gate. For\n",
    "example, it shows that $r$ repetitions of a Pauli rotation\n",
    "encoding gate in \"sequence\" (on the same qubit, but with $L>1$) or\n",
    "in \"parallel\" (on different qubits, with $L=1$) creates a quantum\n",
    "model that can be expressed as a *Fourier series* of the form\n",
    "\n",
    "\\begin{align}f_{ \\boldsymbol \\theta}(x) = \\sum_{n \\in \\Omega} c_{n}(\\boldsymbol \\theta) e^{i  n x},\\end{align}\n",
    "\n",
    "where $\\Omega = \\{ -r, \\dots, -1, 0, 1, \\dots, r\\}$ is a spectrum\n",
    "of consecutive integer-valued frequencies up to degree $r$.\n",
    "\n",
    "As a result, we expect quantum models that encode an input $x$ by\n",
    "$r$ Pauli rotations to only be able to fit Fourier series of at\n",
    "most degree $r$.\n",
    "\n",
    "\n"
   ]
  },
  {
   "cell_type": "markdown",
   "metadata": {},
   "source": [
    "## Goal of this demonstration\n",
    "\n",
    "\n",
    "\n"
   ]
  },
  {
   "cell_type": "markdown",
   "metadata": {},
   "source": [
    "The experiments below investigate this \"Fourier-series\"-like nature of\n",
    "quantum models by showing how to reproduce the simulations underlying\n",
    "Figures 3, 4 and 5 in Section II of the paper:\n",
    "\n",
    "-  **Figures 3 and 4** are function fitting experiments, where quantum\n",
    "   models with different encoding strategies have the task to fit\n",
    "   Fourier series up to a certain degree. As in the paper, we will use\n",
    "   examples of qubit-based quantum circuits where a single data feature\n",
    "   is encoded via Pauli rotations.\n",
    "\n",
    "-  **Figure 5** plots the Fourier coefficients of randomly sampled\n",
    "   instances from a family of quantum models which is defined by some\n",
    "   parametrised ansatz.\n",
    "\n",
    "The code is presented so you can easily modify it in order to play\n",
    "around with other settings and models. The settings used in the paper \n",
    "are given in the various subsections.\n",
    "\n",
    "\n"
   ]
  },
  {
   "cell_type": "markdown",
   "metadata": {},
   "source": [
    "## Imports and global functions\n",
    "\n",
    "\n",
    "\n"
   ]
  },
  {
   "cell_type": "markdown",
   "metadata": {},
   "source": [
    "First of all, let's make some imports and define a standard loss\n",
    "function for the training.\n",
    "\n",
    "\n"
   ]
  },
  {
   "cell_type": "code",
   "execution_count": 2,
   "metadata": {},
   "outputs": [],
   "source": [
    "import matplotlib.pyplot as plt\n",
    "import pennylane as qml\n",
    "from pennylane import numpy as np\n",
    "\n",
    "np.random.seed(42)\n",
    "\n",
    "def square_loss(targets, predictions):\n",
    "    loss = 0\n",
    "    for t, p in zip(targets, predictions):\n",
    "        loss = loss + (t - p) ** 2\n",
    "    loss = loss / len(targets)\n",
    "    return 0.5*loss"
   ]
  },
  {
   "cell_type": "markdown",
   "metadata": {},
   "source": [
    "# Part I: Fitting Fourier series with serial Pauli-rotation encoding\n",
    "\n",
    "\n",
    "\n"
   ]
  },
  {
   "cell_type": "markdown",
   "metadata": {},
   "source": [
    "First we will reproduce Figures 3 and 4 from the paper. These\n",
    "show how quantum models that use Pauli rotations as data\n",
    "encoding gates can only fit Fourier series up to a certain degree. The\n",
    "degree corresponds to the number of times that the Pauli gate gets\n",
    "repeated in the quantum model.\n",
    "\n",
    "First, let us consider circuits where a the encoding gate gets repeated\n",
    "sequentially (as in Figure 2a of the paper). For simplicity we will only\n",
    "look at single qubit circuits:\n",
    "\n",
    "<img src=\"figures/single_qubit_model.png\" alt=\"single_qubit_model\" style=\"width: 500px;\">\n",
    "\n",
    "\n"
   ]
  },
  {
   "cell_type": "markdown",
   "metadata": {},
   "source": [
    "## Define a target function"
   ]
  },
  {
   "cell_type": "markdown",
   "metadata": {},
   "source": [
    "We first define a (classical) target function which will be used as a \n",
    "\"ground truth\" that the quantum model has to fit. The target function is \n",
    "constructed as a Fourier series of a specific degree:\n",
    "\n",
    "\n",
    "\n"
   ]
  },
  {
   "cell_type": "code",
   "execution_count": 3,
   "metadata": {},
   "outputs": [],
   "source": [
    "degree = 1 # degree of the target function\n",
    "scaling = 1 # scaling of the data\n",
    "coeffs = [0.15 + 0.15j]*degree # coefficients of non-zero frequencies\n",
    "coeff0 = 0.1 # coefficient of zero frequency\n",
    "\n",
    "def target_function(x):\n",
    "    \"\"\"Generate a truncated Fourier series of degree, where the data gets re-scaled.\"\"\"\n",
    "    res = coeff0\n",
    "    for idx, coeff in enumerate(coeffs):\n",
    "        exponent = np.complex(0, scaling*(idx+1)*x)\n",
    "        conj_coeff = np.conjugate(coeff)\n",
    "        res += coeff * np.exp(exponent) + conj_coeff * np.exp(-exponent)\n",
    "    return np.real(res)"
   ]
  },
  {
   "cell_type": "markdown",
   "metadata": {},
   "source": [
    "Let's have a look at it.\n",
    "\n",
    "\n"
   ]
  },
  {
   "cell_type": "code",
   "execution_count": 4,
   "metadata": {},
   "outputs": [
    {
     "data": {
      "image/png": "[encoded data removed]",
      "text/plain": [
       "<Figure size 432x288 with 1 Axes>"
      ]
     },
     "metadata": {
      "needs_background": "light"
     },
     "output_type": "display_data"
    }
   ],
   "source": [
    "x = np.linspace(-6, 6, 70)\n",
    "target_y = np.array([target_function(x_) for x_ in x])\n",
    "\n",
    "plt.plot(x, target_y, c='black')\n",
    "plt.scatter(x, target_y, facecolor='white', edgecolor='black')\n",
    "plt.ylim(-1, 1)\n",
    "plt.show()"
   ]
  },
  {
   "cell_type": "markdown",
   "metadata": {},
   "source": [
    "<div class=\"alert alert-info\"><h4>Note</h4><p>To reproduce the figures in the paper, you can use the following\n",
    "    settings in the cells above:\n",
    "\n",
    "-  For the settings\n",
    "\n",
    "       degree = 1\n",
    "       coeffs = [0.15 + 0.15j]*degree \n",
    "       coeff0 = 0.1\n",
    "\n",
    "   this function is the ground truth\n",
    "   $g(x) = \\sum_{n=-1}^1 c_{n} e^{-nix}$ from Figure 3 in the\n",
    "   paper.\n",
    "\n",
    "-  To get the ground truth $g'(x) = \\sum_{n=-2}^2 c_{n} e^{-nix}$\n",
    "   with $c_0=0.1$ $c_1 = c_2 = 0.15 - 0.15i$ from Figure 3,\n",
    "   you need to increase the degree to two:\n",
    "\n",
    "       degree = 2\n",
    "\n",
    "-  The ground truth from Figure 4 can be reproduced by changing the\n",
    "   settings to:\n",
    "\n",
    "       degree = 5 \n",
    "       coeffs = [0.05 + 0.05j]*degree \n",
    "       coeff0 = 0.0\n",
    "</p>\n",
    "</div>\n",
    "\n",
    "\n"
   ]
  },
  {
   "cell_type": "markdown",
   "metadata": {},
   "source": [
    "## Define the serial quantum model\n",
    "\n",
    "\n",
    "\n"
   ]
  },
  {
   "cell_type": "markdown",
   "metadata": {},
   "source": [
    "We now define the quantum model itself.\n",
    "\n",
    "\n"
   ]
  },
  {
   "cell_type": "code",
   "execution_count": 5,
   "metadata": {},
   "outputs": [],
   "source": [
    "scaling = 1\n",
    "\n",
    "dev = qml.device('default.qubit', wires=1)\n",
    "\n",
    "def S(x):\n",
    "    \"\"\"Data encoding circuit block.\"\"\"\n",
    "    qml.RX(scaling*x, wires=0)\n",
    "\n",
    "def W(theta):\n",
    "    \"\"\"Trainable circuit block.\"\"\"\n",
    "    qml.Rot(theta[0], theta[1], theta[2], wires=0)\n",
    "\n",
    "    \n",
    "@qml.qnode(dev)\n",
    "def serial_quantum_model(weights, x=None):\n",
    "    \n",
    "    for theta in weights[:-1]:\n",
    "        W(theta)\n",
    "        S(x)\n",
    "        \n",
    "    # L+1'th unitary\n",
    "    W(weights[-1])\n",
    "    \n",
    "    return qml.expval(qml.PauliZ(wires=0))"
   ]
  },
  {
   "cell_type": "markdown",
   "metadata": {},
   "source": [
    "You can run the following cell multiple times, each time sampling\n",
    "different weights, and therefore different quantum models.\n",
    "\n",
    "\n"
   ]
  },
  {
   "cell_type": "code",
   "execution_count": 6,
   "metadata": {},
   "outputs": [
    {
     "data": {
      "image/png": "[encoded data removed]",
      "text/plain": [
       "<Figure size 432x288 with 1 Axes>"
      ]
     },
     "metadata": {
      "needs_background": "light"
     },
     "output_type": "display_data"
    }
   ],
   "source": [
    "r = 1 # number of times the encoding gets repeated (here equal to the number of layers)\n",
    "weights = 2*np.pi*np.random.random(size=(r+1, 3)) # some random initial weights\n",
    "\n",
    "x = np.linspace(-6, 6, 70)\n",
    "random_quantum_model_y = [serial_quantum_model(weights, x=x_) for x_ in x]\n",
    "\n",
    "plt.plot(x, random_quantum_model_y, c='blue')\n",
    "plt.ylim(-1,1)\n",
    "plt.show()"
   ]
  },
  {
   "cell_type": "markdown",
   "metadata": {},
   "source": [
    "No matter what weights are picked, the single qubit model for `L=1` will always be a sine function \n",
    "of a fixed frequency. The weights merely influence the amplitude, y-shift and phase of the sine.\n",
    "\n",
    "This observation is formally derived in Section II.A of the paper.\n",
    "\n",
    "\n"
   ]
  },
  {
   "cell_type": "markdown",
   "metadata": {},
   "source": [
    "<div class=\"alert alert-info\"><h4>Note</h4><p>You can increase the number of layers. Figure 4 from the paper, for\n",
    "    example, uses the settings <code>L=1</code>, <code>L=3</code> and <code>L=5</code>.\n",
    "</p></div>\n",
    "\n",
    "\n"
   ]
  },
  {
   "cell_type": "markdown",
   "metadata": {},
   "source": [
    "Finally, let's look at the circuit we just created:\n",
    "\n",
    "\n"
   ]
  },
  {
   "cell_type": "code",
   "execution_count": 7,
   "metadata": {},
   "outputs": [
    {
     "name": "stdout",
     "output_type": "stream",
     "text": [
      " 0: ──Rot(2.353, 5.974, 4.599)──RX(6.0)──Rot(3.761, 0.98, 0.98)──┤ ⟨Z⟩ \n",
      "\n"
     ]
    }
   ],
   "source": [
    "print(serial_quantum_model.draw())"
   ]
  },
  {
   "cell_type": "markdown",
   "metadata": {},
   "source": [
    "## Fit the model to the target\n",
    "\n"
   ]
  },
  {
   "cell_type": "markdown",
   "metadata": {},
   "source": [
    "The next step is to optimise the weights in order to fit the ground\n",
    "truth.\n",
    "\n",
    "\n"
   ]
  },
  {
   "cell_type": "code",
   "execution_count": 8,
   "metadata": {},
   "outputs": [
    {
     "name": "stdout",
     "output_type": "stream",
     "text": [
      "Cost at step  10: 0.04735694890119539\n",
      "Cost at step  20: 0.04193426710325411\n",
      "Cost at step  30: 0.005607479361325099\n",
      "Cost at step  40: 0.004608455923986264\n",
      "Cost at step  50: 0.0016064517040624462\n",
      "Cost at step  60: 0.00026294046873734974\n"
     ]
    }
   ],
   "source": [
    "def cost(weights, x, y):\n",
    "    predictions = [serial_quantum_model(weights, x=x_) for x_ in x]\n",
    "    return square_loss(y, predictions)\n",
    "\n",
    "max_steps = 60\n",
    "opt = qml.AdamOptimizer(0.3)\n",
    "batch_size = 25\n",
    "cst = [cost(weights, x, target_y)]  # initial cost\n",
    "\n",
    "for step in range(max_steps):\n",
    "\n",
    "    # Select batch of data\n",
    "    batch_index = np.random.randint(0, len(x), (batch_size,))\n",
    "    x_batch = x[batch_index]\n",
    "    y_batch = target_y[batch_index]\n",
    "\n",
    "    # Update the weights by one optimizer step\n",
    "    weights = opt.step(lambda w: cost(w, x_batch, y_batch), weights)\n",
    "\n",
    "    # Save, and possibly print, the current cost\n",
    "    c = cost(weights, x, target_y)\n",
    "    cst.append(c)\n",
    "    if (step + 1) % 10 == 0:\n",
    "        print(\"Cost at step {0:3}: {1}\".format(step + 1, c))"
   ]
  },
  {
   "cell_type": "markdown",
   "metadata": {},
   "source": [
    "To continue training, you may just run the above cell again. Once you\n",
    "are happy, you can use the trained model to predict function values, and\n",
    "compare them with the ground truth.\n",
    "\n",
    "\n"
   ]
  },
  {
   "cell_type": "code",
   "execution_count": 9,
   "metadata": {},
   "outputs": [
    {
     "data": {
      "image/png": "[encoded data removed]",
      "text/plain": [
       "<Figure size 432x288 with 1 Axes>"
      ]
     },
     "metadata": {
      "needs_background": "light"
     },
     "output_type": "display_data"
    }
   ],
   "source": [
    "predictions = [serial_quantum_model(weights, x=x_) for x_ in x]\n",
    "\n",
    "plt.plot(x, target_y, c='black')\n",
    "plt.scatter(x, target_y, facecolor='white', edgecolor='black')\n",
    "plt.plot(x, predictions, c='blue')\n",
    "plt.ylim(-1,1)\n",
    "plt.show()"
   ]
  },
  {
   "cell_type": "markdown",
   "metadata": {},
   "source": [
    "Let's also have a look at the cost during training.\n",
    "\n",
    "\n"
   ]
  },
  {
   "cell_type": "code",
   "execution_count": 10,
   "metadata": {},
   "outputs": [
    {
     "data": {
      "image/png": "[encoded data removed]",
      "text/plain": [
       "<Figure size 432x288 with 1 Axes>"
      ]
     },
     "metadata": {
      "needs_background": "light"
     },
     "output_type": "display_data"
    }
   ],
   "source": [
    "plt.plot(range(len(cst)), cst)\n",
    "plt.ylabel(\"Cost\")\n",
    "plt.xlabel(\"Step\")\n",
    "plt.ylim(0, 0.23)\n",
    "plt.show()"
   ]
  },
  {
   "cell_type": "markdown",
   "metadata": {},
   "source": [
    "With the initial settings and enough training steps, the quantum model \n",
    "learns to fit the ground truth perfectly. This is expected, since \n",
    "the number of Pauli rotation encoding gates and the degree of the \n",
    "ground truth Fourier series are both one.\n",
    "\n",
    "If the ground truth's degree is larger than the number of layers in the\n",
    "quantum model, the fit will look much less accurate. And finally, we\n",
    "also need to have the correct scaling of the data: if one of the models\n",
    "changes the ``scaling`` parameter (which effectively scales the\n",
    "frequencies), fitting does not work even with enough encoding\n",
    "repetitions.\n",
    "\n",
    "\n"
   ]
  },
  {
   "cell_type": "markdown",
   "metadata": {},
   "source": [
    "<div class=\"alert alert-info\"><h4>Note</h4>\n",
    "    <p>\n",
    "    You will find that the training takes much longer, and needs a lot more steps to converge for \n",
    "    larger L. Some initial weights may not even converge to a good solution at all, the training \n",
    "    seems to get stuck in a minimum. It is an open research question whether for asymptotically large L, \n",
    "    the single qubit model can fit <i>any</i> function by constructing arbitrary Fourier coefficients.\n",
    "    \n",
    "</p>\n",
    "</div>\n",
    "\n",
    "\n"
   ]
  },
  {
   "cell_type": "markdown",
   "metadata": {},
   "source": [
    "# Part II: Fitting Fourier series with parallel Pauli-rotation encoding\n",
    "\n",
    "\n",
    "\n"
   ]
  },
  {
   "cell_type": "markdown",
   "metadata": {},
   "source": [
    "Our next task is to repeat the function fitting experiment for a circuit\n",
    "where the Pauli rotation gate gets repeated $r$ times on\n",
    "*different* qubits, using a single layer $L=1$.\n",
    "\n",
    "As shown in the paper, we expect similar results to the serial model: a\n",
    "Fourier series of degree $r$ can only be fitted if there are at\n",
    "least $r$ repetitions of the encoding gate in the quantum model.\n",
    "However, in practice this experiment is a bit harder, since the\n",
    "trainable unitaries $W$ grow quickly with the number of qubits.\n",
    "\n",
    "In the paper, the investigations are made with the assumption that the\n",
    "purple trainable blocks $W$ are arbitrary unitaries. We could use\n",
    "the ``pennylane.templates.ArbitraryUnitary`` template, but since this\n",
    "template requires a number of parameters that grows exponentially with\n",
    "the number of qubits ($4^L-1$ to be precise), this quickly becomes\n",
    "cumbersome to train.\n",
    "\n",
    "We therefore follow Figure 4 in the paper and use an ansatz for\n",
    "$W$. \n",
    "\n",
    "\n"
   ]
  },
  {
   "cell_type": "markdown",
   "metadata": {},
   "source": [
    "\n",
    "<img src=\"figures/parallel_model.png\" alt=\"parallel_model\" style=\"width: 500px;\">\n",
    "\n",
    "\n",
    "\n"
   ]
  },
  {
   "cell_type": "markdown",
   "metadata": {},
   "source": [
    "## Define the parallel quantum model\n",
    "\n",
    "\n",
    "\n"
   ]
  },
  {
   "cell_type": "markdown",
   "metadata": {},
   "source": [
    "The ansatz is PennyLane's layer structure called\n",
    "``StronglyEntanglingLayers``, and as the name suggests, it has itself a\n",
    "user-defined number of layers (which we will call \"ansatz layers\" to\n",
    "avoid confusion).\n",
    "\n",
    "\n"
   ]
  },
  {
   "cell_type": "code",
   "execution_count": 11,
   "metadata": {},
   "outputs": [],
   "source": [
    "from pennylane.templates import StronglyEntanglingLayers"
   ]
  },
  {
   "cell_type": "markdown",
   "metadata": {},
   "source": [
    "Let's have a quick look at the ansatz itself for 3 qubits by making a\n",
    "dummy circuit of 1 ansatz layer:\n",
    "\n",
    "\n"
   ]
  },
  {
   "cell_type": "code",
   "execution_count": 12,
   "metadata": {},
   "outputs": [
    {
     "name": "stdout",
     "output_type": "stream",
     "text": [
      " 0: ──Rot(2.65, 1.739, 3.722)───╭C──────╭X──┤ ⟨I⟩ \n",
      " 1: ──Rot(5.733, 1.324, 3.914)──╰X──╭C──│───┤     \n",
      " 2: ──Rot(3.968, 4.606, 0.827)──────╰X──╰C──┤     \n",
      "\n"
     ]
    }
   ],
   "source": [
    "n_ansatz_layers = 1\n",
    "n_qubits = 3\n",
    "\n",
    "dev = qml.device('default.qubit', wires=4)\n",
    "\n",
    "@qml.qnode(dev)\n",
    "def ansatz(weights):\n",
    "    StronglyEntanglingLayers(weights, wires=range(n_qubits))\n",
    "    return qml.expval(qml.Identity(wires=0))\n",
    "\n",
    "weights_ansatz = 2*np.pi*np.random.random(size=(n_ansatz_layers, n_qubits, 3))\n",
    "\n",
    "ansatz(weights_ansatz)\n",
    "print(ansatz.draw())"
   ]
  },
  {
   "cell_type": "markdown",
   "metadata": {},
   "source": [
    "Now we define the actual quantum model.\n",
    "\n",
    "\n"
   ]
  },
  {
   "cell_type": "code",
   "execution_count": 13,
   "metadata": {},
   "outputs": [],
   "source": [
    "scaling = 1\n",
    "r = 3\n",
    "\n",
    "dev = qml.device('default.qubit', wires=r)\n",
    "\n",
    "def S(x):\n",
    "    \"\"\"Data encoding circuit block.\"\"\"\n",
    "    for w in range(r):\n",
    "        qml.RX(scaling*x, wires=w)\n",
    "\n",
    "def W(theta):\n",
    "    \"\"\"Trainable circuit block.\"\"\"\n",
    "    StronglyEntanglingLayers(theta, wires=range(r))\n",
    "\n",
    "    \n",
    "@qml.qnode(dev)\n",
    "def parallel_quantum_model(weights, x=None):\n",
    "    \n",
    "    W(weights[0])\n",
    "    S(x)        \n",
    "    W(weights[1])\n",
    "    \n",
    "    return qml.expval(qml.PauliZ(wires=0))"
   ]
  },
  {
   "cell_type": "markdown",
   "metadata": {},
   "source": [
    "Again, you can sample random weights and plot the model function:\n",
    "\n",
    "\n"
   ]
  },
  {
   "cell_type": "code",
   "execution_count": 14,
   "metadata": {},
   "outputs": [
    {
     "data": {
      "image/png": "[encoded data removed]",
      "text/plain": [
       "<Figure size 432x288 with 1 Axes>"
      ]
     },
     "metadata": {
      "needs_background": "light"
     },
     "output_type": "display_data"
    }
   ],
   "source": [
    "trainable_block_layers = 3\n",
    "weights = 2*np.pi*np.random.random(size=(2, trainable_block_layers, r, 3))\n",
    "\n",
    "x = np.linspace(-6, 6, 70)\n",
    "random_quantum_model_y = [parallel_quantum_model(weights, x=x_) for x_ in x]\n",
    "\n",
    "plt.plot(x, random_quantum_model_y, c='blue')\n",
    "plt.ylim(-1,1)\n",
    "plt.show()"
   ]
  },
  {
   "cell_type": "markdown",
   "metadata": {},
   "source": [
    "## Training the model\n",
    "\n",
    "\n"
   ]
  },
  {
   "cell_type": "markdown",
   "metadata": {},
   "source": [
    "Training the model is done exactly as before, but it may take a lot\n",
    "longer this time. We set a default of 25 steps, which you should\n",
    "increase if necessary. Small models of <6 qubits\n",
    "usually converge after a few hundred steps at most -- but this\n",
    "depends on your settings.\n",
    "\n",
    "\n"
   ]
  },
  {
   "cell_type": "code",
   "execution_count": 15,
   "metadata": {},
   "outputs": [
    {
     "name": "stdout",
     "output_type": "stream",
     "text": [
      "Cost at step  10: 0.05632764972294481\n",
      "Cost at step  20: 0.013258568462181423\n",
      "Cost at step  30: 0.004124088784387998\n",
      "Cost at step  40: 0.002276671993366878\n",
      "Cost at step  50: 0.0010779886466092362\n",
      "Cost at step  60: 0.0004144471767863897\n"
     ]
    }
   ],
   "source": [
    "def cost(weights, x, y):\n",
    "    predictions = [parallel_quantum_model(weights, x=x_) for x_ in x]\n",
    "    return square_loss(y, predictions)\n",
    "\n",
    "max_steps = 60\n",
    "opt = qml.AdamOptimizer(0.3)\n",
    "batch_size = 25\n",
    "cst = [cost(weights, x, target_y)]  # initial cost\n",
    "\n",
    "for step in range(max_steps):\n",
    "\n",
    "    # select batch of data\n",
    "    batch_index = np.random.randint(0, len(x), (batch_size,))\n",
    "    x_batch = x[batch_index]\n",
    "    y_batch = target_y[batch_index]\n",
    "\n",
    "    # update the weights by one optimizer step\n",
    "    weights = opt.step(lambda w: cost(w, x_batch, y_batch), weights)\n",
    "    \n",
    "    # save, and possibly print, the current cost\n",
    "    c = cost(weights, x, target_y)\n",
    "    cst.append(c)\n",
    "    if (step + 1) % 10 == 0:\n",
    "        print(\"Cost at step {0:3}: {1}\".format(step + 1, c))"
   ]
  },
  {
   "cell_type": "code",
   "execution_count": 16,
   "metadata": {},
   "outputs": [
    {
     "data": {
      "image/png": "[encoded data removed]",
      "text/plain": [
       "<Figure size 432x288 with 1 Axes>"
      ]
     },
     "metadata": {
      "needs_background": "light"
     },
     "output_type": "display_data"
    }
   ],
   "source": [
    "predictions = [parallel_quantum_model(weights, x=x_) for x_ in x]\n",
    "\n",
    "plt.plot(x, target_y, c='black')\n",
    "plt.scatter(x, target_y, facecolor='white', edgecolor='black')\n",
    "plt.plot(x, predictions, c='blue')\n",
    "plt.ylim(-1,1)\n",
    "plt.show()"
   ]
  },
  {
   "cell_type": "code",
   "execution_count": 17,
   "metadata": {},
   "outputs": [
    {
     "data": {
      "image/png": "[encoded data removed]",
      "text/plain": [
       "<Figure size 432x288 with 1 Axes>"
      ]
     },
     "metadata": {
      "needs_background": "light"
     },
     "output_type": "display_data"
    }
   ],
   "source": [
    "plt.plot(range(len(cst)), cst)\n",
    "plt.ylabel(\"Cost\")\n",
    "plt.xlabel(\"Step\")\n",
    "plt.show()"
   ]
  },
  {
   "cell_type": "markdown",
   "metadata": {},
   "source": [
    "<div class=\"alert alert-info\"><h4>Note</h4><p>To reproduce the right column in Figure 4 from the paper, use the \n",
    "    correct ground truth, $r=3$ and <code>trainable_block_layers=3</code>,\n",
    "    as well as sufficiently many training steps. The amount of steps \n",
    "    depends on the initial weights and other hyperparameters, and \n",
    "    in some settings training may not converge to zero error at all.</p></div>\n",
    "\n",
    "\n"
   ]
  },
  {
   "cell_type": "markdown",
   "metadata": {},
   "source": [
    "# Part III: Sampling Fourier coefficients\n",
    "\n",
    "\n",
    "\n"
   ]
  },
  {
   "cell_type": "markdown",
   "metadata": {},
   "source": [
    "When we use a trainable ansatz above, it is possible that even with\n",
    "enough repetitions of the data-encoding Pauli rotation, the quantum\n",
    "model cannot fit the circuit, since the expressivity of quantum models\n",
    "also depends on the Fourier coefficients the model can create.\n",
    "\n",
    "Figure 5 in [1] shows Fourier coefficients\n",
    "from quantum models sampled from a model family defined by an \n",
    "ansatz for the trainable circuit block. For this we need a\n",
    "function that numerically computes the Fourier coefficients of a\n",
    "periodic function f with period $2 \\pi$.\n",
    "\n",
    "\n"
   ]
  },
  {
   "cell_type": "code",
   "execution_count": 18,
   "metadata": {},
   "outputs": [],
   "source": [
    "def fourier_coefficients(f, K):\n",
    "    \"\"\"\n",
    "    Computes the first 2*K+1 Fourier coefficients of a 2*pi periodic function.\n",
    "    \"\"\"\n",
    "    n_coeffs = 2*K+1\n",
    "    t = np.linspace(0, 2*np.pi, n_coeffs, endpoint=False)\n",
    "    y = np.fft.rfft(f(t)) / t.size\n",
    "    return y"
   ]
  },
  {
   "cell_type": "markdown",
   "metadata": {},
   "source": [
    "## Define your quantum model\n"
   ]
  },
  {
   "cell_type": "markdown",
   "metadata": {},
   "source": [
    "Now we need to define a quantum model. This could be any model, using a\n",
    "qubit or continuous-variable circuit, or one of the quantum models from\n",
    "above. We will use a slight derivation of the ``parallel_qubit_model()``\n",
    "from above, this time using the ``BasicEntanglerLayers`` ansatz:\n",
    "\n",
    "\n"
   ]
  },
  {
   "cell_type": "code",
   "execution_count": 19,
   "metadata": {},
   "outputs": [],
   "source": [
    "from pennylane.templates import BasicEntanglerLayers\n",
    "\n",
    "scaling = 1\n",
    "n_qubits = 4\n",
    "\n",
    "dev = qml.device('default.qubit', wires=n_qubits)\n",
    "\n",
    "def S(x):\n",
    "    \"\"\"Data encoding circuit block.\"\"\"\n",
    "    for w in range(n_qubits):\n",
    "        qml.RX(scaling*x, wires=w)\n",
    "\n",
    "def W(theta):\n",
    "    \"\"\"Trainable circuit block.\"\"\"\n",
    "    BasicEntanglerLayers(theta, wires=range(n_qubits))\n",
    "\n",
    "    \n",
    "@qml.qnode(dev)\n",
    "def quantum_model(weights, x=None):\n",
    "    \n",
    "    W(weights[0])\n",
    "    S(x)\n",
    "    W(weights[1])\n",
    "    \n",
    "    return qml.expval(qml.PauliZ(wires=0))"
   ]
  },
  {
   "cell_type": "markdown",
   "metadata": {},
   "source": [
    "It will also be handy to define a function that samples different random\n",
    "weights of the correct size for the model.\n",
    "\n",
    "\n"
   ]
  },
  {
   "cell_type": "code",
   "execution_count": 20,
   "metadata": {},
   "outputs": [],
   "source": [
    "n_ansatz_layers = 1\n",
    "\n",
    "def random_weights():\n",
    "    return 2 * np.pi * np.random.random(size=(2, n_ansatz_layers, n_qubits))"
   ]
  },
  {
   "cell_type": "markdown",
   "metadata": {},
   "source": [
    "Now we can compute the first few Fourier coefficients for samples from\n",
    "this model. The samples are created by randomly sampling different\n",
    "parameters using the ``random_weights()`` function.\n",
    "\n",
    "\n"
   ]
  },
  {
   "cell_type": "code",
   "execution_count": 21,
   "metadata": {},
   "outputs": [],
   "source": [
    "n_coeffs = 5\n",
    "n_samples = 100\n",
    "\n",
    "\n",
    "coeffs = []\n",
    "for i in range(n_samples):\n",
    "\n",
    "    weights = random_weights()\n",
    "\n",
    "    def f(x):\n",
    "        return np.array([quantum_model(weights, x=x_) for x_ in x])\n",
    "\n",
    "    coeffs_sample = fourier_coefficients(f, n_coeffs)\n",
    "    coeffs.append(coeffs_sample)\n",
    "\n",
    "coeffs = np.array(coeffs)\n",
    "coeffs_real = np.real(coeffs)\n",
    "coeffs_imag = np.imag(coeffs)"
   ]
  },
  {
   "cell_type": "markdown",
   "metadata": {},
   "source": [
    "Let's plot the real vs. the imaginary part of the coefficients. As a\n",
    "sanity check, the $c_0$ coefficient should be real, and therefore\n",
    "have no contribution on the y-axis.\n",
    "\n",
    "\n"
   ]
  },
  {
   "cell_type": "code",
   "execution_count": 22,
   "metadata": {},
   "outputs": [
    {
     "data": {
      "image/png": "[encoded data removed]",
      "text/plain": [
       "<Figure size 432x288 with 6 Axes>"
      ]
     },
     "metadata": {
      "needs_background": "light"
     },
     "output_type": "display_data"
    }
   ],
   "source": [
    "n_coeffs = len(coeffs_real[0])\n",
    "\n",
    "fig, ax = plt.subplots(1, n_coeffs)\n",
    "\n",
    "for idx, ax_ in enumerate(ax):\n",
    "    ax_.set_title(r\"$c_{}$\".format(idx))\n",
    "    ax_.scatter(coeffs_real[:, idx], coeffs_imag[:, idx], s=20, facecolor='white', edgecolor='red')\n",
    "    ax_.set_aspect(\"equal\")\n",
    "    ax_.set_ylim(-1, 1)\n",
    "    ax_.set_xlim(-1, 1)\n",
    "\n",
    "\n",
    "plt.tight_layout(pad=0.5)\n",
    "plt.show()"
   ]
  },
  {
   "cell_type": "markdown",
   "metadata": {},
   "source": [
    "Note also how the variance of the distribution decreases for growing\n",
    "orders of the coefficients - an effect linked to the convergence of a\n",
    "Fourier series.\n",
    "\n",
    "\n"
   ]
  },
  {
   "cell_type": "markdown",
   "metadata": {},
   "source": [
    "<div class=\"alert alert-info\"><h4>Note</h4><p>To reproduce the results from Figure 5 you have to change the ansatz (no\n",
    "    unitary, <code>BasicEntanglerLayers</code> or <code>StronglyEntanglingLayers</code>, and\n",
    "    set <code>n_ansatz_layers</code> either to $1$ or $5$. The\n",
    "    <code>StronglyEntanglingLayers</code> requires weights of shape\n",
    "    <code>size=(2, n_ansatz_layers, n_qubits, 3)</code>.</p></div>\n",
    "\n",
    "\n"
   ]
  },
  {
   "cell_type": "markdown",
   "metadata": {},
   "source": [
    "## Continuous-variable model\n",
    "\n",
    "\n",
    "Ref. [1] mentions that a phase rotation in\n",
    "continuous-variable quantum computing has a spectrum that supports *all*\n",
    "Fourier frequecies. To play with this model, we finally show you the\n",
    "code for a continuous-variable circuit. For example, to see its Fourier\n",
    "coefficients run the cell below, and then re-run the two cells above.\n",
    "\n",
    "\n"
   ]
  },
  {
   "cell_type": "code",
   "execution_count": 23,
   "metadata": {},
   "outputs": [],
   "source": [
    "var = 2\n",
    "n_ansatz_layers = 1\n",
    "dev_cv = qml.device('default.gaussian', wires=1)\n",
    "\n",
    "def S(x):\n",
    "    qml.Rotation(x, wires=0)\n",
    "\n",
    "def W(theta):\n",
    "    \"\"\"Trainable circuit block.\"\"\"\n",
    "    for r_ in range(n_ansatz_layers):\n",
    "        qml.Displacement(theta[0], theta[1], wires=0)\n",
    "        qml.Squeezing(theta[2], theta[3], wires=0)\n",
    "\n",
    "@qml.qnode(dev_cv)\n",
    "def quantum_model(weights_, x=None):\n",
    "    W(weights[0])\n",
    "    S(x)\n",
    "    W(weights[1])\n",
    "    return qml.expval(qml.X(wires=0))\n",
    "\n",
    "def random_weights():\n",
    "    return np.random.normal(size=(2, 5*n_ansatz_layers), loc=0, scale=var)"
   ]
  },
  {
   "cell_type": "markdown",
   "metadata": {},
   "source": [
    "<div class=\"alert alert-info\"><h4>Note</h4>\n",
    "    <p>To find out what effect so-called \"non-Gaussian\" gates like the \n",
    "    <code>Kerr</code> gate have, you need to install the \n",
    "    <a href=\"https://pennylane-sf.readthedocs.io/en/latest/\">strawberryfields plugin</a>\n",
    "    and change the device to \n",
    "    <code>dev_cv = qml.device('strawberryfields.fock', wires=1, cutoff_dim=50)</code>.\n",
    "   </p>\n",
    " </div>\n",
    "\n",
    "\n"
   ]
  },
  {
   "cell_type": "markdown",
   "metadata": {},
   "source": [
    "References\n",
    "---------------\n",
    "\n",
    "[1] Maria Schuld, Ryan Sweke and Johannes Jakob Meyer, *The effect of data encoding on\n",
    "the expressive power of variational quantum machine learning models*, arxiv preprint arxiv:XXX.XXXXX.\n",
    "\n"
   ]
  }
 ],
 "metadata": {
  "kernelspec": {
   "display_name": "Python 3",
   "language": "python",
   "name": "python3"
  },
  "language_info": {
   "codemirror_mode": {
    "name": "ipython",
    "version": 3
   },
   "file_extension": ".py",
   "mimetype": "text/x-python",
   "name": "python",
   "nbconvert_exporter": "python",
   "pygments_lexer": "ipython3",
   "version": "3.6.9"
  }
 },
 "nbformat": 4,
 "nbformat_minor": 1
}
